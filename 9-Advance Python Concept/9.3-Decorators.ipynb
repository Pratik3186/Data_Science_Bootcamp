{
 "cells": [
  {
   "cell_type": "markdown",
   "id": "6ae129f4",
   "metadata": {},
   "source": [
    "### Decorators\n",
    "Decorators are a powerful and flexible feature in Python that allows you to modify the behavior of a function or class method. They are commonly used to add functionality to functions or methods without modifying their actual code. This lesson covers the basics of decorators, including how to create and use them."
   ]
  },
  {
   "cell_type": "code",
   "execution_count": null,
   "id": "252aad97",
   "metadata": {},
   "outputs": [],
   "source": [
    "### function copy\n",
    "### closures\n",
    "### decorators"
   ]
  },
  {
   "cell_type": "code",
   "execution_count": null,
   "id": "0366ab55",
   "metadata": {},
   "outputs": [],
   "source": [
    "## function copy\n",
    "def welcome():\n",
    "    return \"Welcome to the advanced python course\"\n",
    "\n",
    "welcome()"
   ]
  },
  {
   "cell_type": "code",
   "execution_count": null,
   "id": "3a02bf57",
   "metadata": {},
   "outputs": [],
   "source": [
    "wel=welcome\n",
    "print(wel())\n",
    "del welcome\n",
    "print(wel())"
   ]
  },
  {
   "cell_type": "code",
   "execution_count": null,
   "id": "80af982b",
   "metadata": {},
   "outputs": [],
   "source": [
    "##closures functions\n",
    "\n",
    "def main_welcome(msg):\n",
    "   \n",
    "    def sub_welcome_method():\n",
    "        print(\"Welcome to the advance python course\")\n",
    "        print(msg)\n",
    "        print(\"Please learn these concepts properly\")\n",
    "    return sub_welcome_method()"
   ]
  },
  {
   "cell_type": "code",
   "execution_count": null,
   "id": "40bd3ce0",
   "metadata": {},
   "outputs": [],
   "source": [
    "main_welcome(\"Welcome everyone\")"
   ]
  },
  {
   "cell_type": "code",
   "execution_count": null,
   "id": "d5bc5f8c",
   "metadata": {},
   "outputs": [],
   "source": [
    "def main_welcome(func):\n",
    "   \n",
    "    def sub_welcome_method():\n",
    "        print(\"Welcome to the advance python course\")\n",
    "        func(\"Welcome everyone to this tutorial\")\n",
    "        print(\"Please learn these concepts properly\")\n",
    "    return sub_welcome_method()"
   ]
  },
  {
   "cell_type": "code",
   "execution_count": null,
   "id": "ee901a65",
   "metadata": {},
   "outputs": [],
   "source": [
    "main_welcome(print)"
   ]
  },
  {
   "cell_type": "code",
   "execution_count": null,
   "id": "d58ffc75",
   "metadata": {},
   "outputs": [],
   "source": [
    "def main_welcome(func,lst):\n",
    "   \n",
    "    def sub_welcome_method():\n",
    "        print(\"Welcome to the advance python course\")\n",
    "        print(func(lst))\n",
    "        print(\"Please learn these concepts properly\")\n",
    "    return sub_welcome_method()"
   ]
  },
  {
   "cell_type": "code",
   "execution_count": null,
   "id": "fab998aa",
   "metadata": {},
   "outputs": [],
   "source": [
    "main_welcome(len,[1,2,3,4,5])"
   ]
  },
  {
   "cell_type": "code",
   "execution_count": null,
   "id": "993640fe",
   "metadata": {},
   "outputs": [],
   "source": [
    "len([1,2,3,4,5,6])"
   ]
  },
  {
   "cell_type": "code",
   "execution_count": null,
   "id": "f924f0db",
   "metadata": {},
   "outputs": [],
   "source": [
    "### Decorator\n",
    "def main_welcome(func):\n",
    "   \n",
    "    def sub_welcome_method():\n",
    "        print(\"Welcome to the advance python course\")\n",
    "        func()\n",
    "        print(\"Please learn these concepts properly\")\n",
    "    return sub_welcome_method()"
   ]
  },
  {
   "cell_type": "code",
   "execution_count": null,
   "id": "8f196b70",
   "metadata": {},
   "outputs": [],
   "source": [
    "def coure_introduction():\n",
    "    print(\"This is an advanced python course\")\n",
    "\n",
    "coure_introduction()"
   ]
  },
  {
   "cell_type": "code",
   "execution_count": null,
   "id": "eba041ae",
   "metadata": {},
   "outputs": [],
   "source": [
    "main_welcome(coure_introduction)"
   ]
  },
  {
   "cell_type": "code",
   "execution_count": null,
   "id": "4192d8ec",
   "metadata": {},
   "outputs": [],
   "source": [
    "@main_welcome\n",
    "def coure_introduction():\n",
    "    print(\"This is an advanced python course\")"
   ]
  },
  {
   "cell_type": "code",
   "execution_count": null,
   "id": "911c08dc",
   "metadata": {},
   "outputs": [],
   "source": [
    "## Decorator\n",
    "\n",
    "def my_decorator(func):\n",
    "    def wrapper():\n",
    "        print(\"Something is happening before the function is called.\")\n",
    "        func()\n",
    "        print(\"Something is happening after the function is called.\")\n",
    "    return wrapper"
   ]
  },
  {
   "cell_type": "code",
   "execution_count": null,
   "id": "e41e485b",
   "metadata": {},
   "outputs": [],
   "source": [
    "@my_decorator\n",
    "def say_hello():\n",
    "    print(\"Hello!\")"
   ]
  },
  {
   "cell_type": "code",
   "execution_count": null,
   "id": "e799f585",
   "metadata": {},
   "outputs": [],
   "source": [
    "say_hello()"
   ]
  },
  {
   "cell_type": "code",
   "execution_count": null,
   "id": "51d4b53e",
   "metadata": {},
   "outputs": [],
   "source": [
    "## Decorators WWith arguments\n",
    "def repeat(n):\n",
    "    def decorator(func):\n",
    "        def wrapper(*args, **kwargs):\n",
    "            for _ in range(n):\n",
    "                func(*args, **kwargs)\n",
    "        return wrapper\n",
    "    return decorator"
   ]
  },
  {
   "cell_type": "code",
   "execution_count": null,
   "id": "76a19e5a",
   "metadata": {},
   "outputs": [],
   "source": [
    "@repeat(3)\n",
    "def say_hello():\n",
    "    print(\"Hello\")"
   ]
  },
  {
   "cell_type": "code",
   "execution_count": null,
   "id": "55d678cc",
   "metadata": {},
   "outputs": [],
   "source": [
    "say_hello()"
   ]
  },
  {
   "cell_type": "markdown",
   "id": "bcd274af",
   "metadata": {},
   "source": [
    "### Conclusion\n",
    "Decorators are a powerful tool in Python for extending and modifying the behavior of functions and methods. They provide a clean and readable way to add functionality such as logging, timing, access control, and more without changing the original code. Understanding and using decorators effectively can significantly enhance your Python programming skills."
   ]
  }
 ],
 "metadata": {
  "kernelspec": {
   "display_name": "spyder-runtime",
   "language": "python",
   "name": "python3"
  },
  "language_info": {
   "name": "python",
   "version": "3.11.11"
  }
 },
 "nbformat": 4,
 "nbformat_minor": 5
}

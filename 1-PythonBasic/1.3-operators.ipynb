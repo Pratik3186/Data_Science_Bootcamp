{
 "cells": [
  {
   "cell_type": "markdown",
   "id": "a91c9288",
   "metadata": {},
   "source": [
    "### Deep Dive into Operators\n",
    "#### Video Outline:\n",
    "1. Introduction to Operators  \n",
    "2. Arithmetic Operators  \n",
    "Addition  \n",
    "Subtraction    \n",
    "Multiplication  \n",
    "Division  \n",
    "Floor Division  \n",
    "Modulus  \n",
    "Exponentiation  \n",
    "3. Comparison Operators  \n",
    "Equal to  \n",
    "Not equal to  \n",
    "Greater than    \n",
    "Less than  \n",
    "Greater than or equal to    \n",
    "Less than or equal to  \n",
    "4. Logical Operators  \n",
    "AND   \n",
    "OR  \n",
    "NOT  \n",
    "5. Practical Examples and Common Errors  "
   ]
  },
  {
   "cell_type": "code",
   "execution_count": null,
   "id": "cf2f5b9a",
   "metadata": {},
   "outputs": [],
   "source": [
    "## Arithmethic Operation\n",
    "\n",
    "a=10\n",
    "b = 5\n",
    "\n",
    "add_result=a+b  #addiiton\n",
    "sub_result=a-b  #substraction \n",
    "mult_result=a*b #multiplication\n",
    "div_result=a/b  #division\n",
    "floor_div_result=a//b ## floor division\n",
    "modulus_result=a%b #modulus operation\n",
    "\n",
    "exponent_result=a**b ## Exponentiation\n",
    "\n",
    "\n",
    "print(add_result)\n",
    "print(sub_result)\n",
    "print(mult_result)\n",
    "print(div_result)\n",
    "print(floor_div_result)\n",
    "print(modulus_result)\n",
    "print(exponent_result)"
   ]
  },
  {
   "cell_type": "code",
   "execution_count": null,
   "id": "d499ea0d",
   "metadata": {},
   "outputs": [],
   "source": [
    "10/5"
   ]
  },
  {
   "cell_type": "code",
   "execution_count": null,
   "id": "0af8d301",
   "metadata": {},
   "outputs": [],
   "source": [
    "21/5"
   ]
  },
  {
   "cell_type": "code",
   "execution_count": null,
   "id": "7ee13cc9",
   "metadata": {},
   "outputs": [],
   "source": [
    "21//5"
   ]
  },
  {
   "cell_type": "code",
   "execution_count": null,
   "id": "3041dec3",
   "metadata": {},
   "outputs": [],
   "source": [
    "## Comparison Operators\n",
    "## == Equal to\n",
    "a=10\n",
    "b=10\n",
    "\n",
    "a==b"
   ]
  },
  {
   "cell_type": "code",
   "execution_count": null,
   "id": "e2f0fa30",
   "metadata": {},
   "outputs": [],
   "source": [
    "str1=\"Krish\"\n",
    "str2=\"Krish\"\n",
    "\n",
    "str1==str2"
   ]
  },
  {
   "cell_type": "code",
   "execution_count": null,
   "id": "8e3cdb4d",
   "metadata": {},
   "outputs": [],
   "source": [
    "## Not Equal to !=\n",
    "str1!=str2"
   ]
  },
  {
   "cell_type": "code",
   "execution_count": null,
   "id": "f7728c7b",
   "metadata": {},
   "outputs": [],
   "source": [
    "str3=\"Krish\"\n",
    "str4=\"krish\"\n",
    "\n",
    "str3!=str4"
   ]
  },
  {
   "cell_type": "code",
   "execution_count": null,
   "id": "dd3d6241",
   "metadata": {},
   "outputs": [],
   "source": [
    "# greater than >\n",
    "\n",
    "num1=45\n",
    "num2=55\n",
    "\n",
    "num1>num2"
   ]
  },
  {
   "cell_type": "code",
   "execution_count": null,
   "id": "41c17ecf",
   "metadata": {},
   "outputs": [],
   "source": [
    "## less than <\n",
    "\n",
    "print(num1<num2)"
   ]
  },
  {
   "cell_type": "code",
   "execution_count": null,
   "id": "f204adae",
   "metadata": {},
   "outputs": [],
   "source": [
    "#greater than or equal to\n",
    "number1=45\n",
    "number2=45\n",
    "\n",
    "print(number1>=number2)"
   ]
  },
  {
   "cell_type": "code",
   "execution_count": null,
   "id": "6fba0586",
   "metadata": {},
   "outputs": [],
   "source": [
    "#less than or equal to\n",
    "number1=44\n",
    "number2=45\n",
    "\n",
    "print(number1<=number2)"
   ]
  },
  {
   "cell_type": "code",
   "execution_count": null,
   "id": "df6d8978",
   "metadata": {},
   "outputs": [],
   "source": [
    "## And ,Not,OR\n",
    "X=True\n",
    "Y=True\n",
    "\n",
    "result =X and Y\n",
    "print(result)"
   ]
  },
  {
   "cell_type": "code",
   "execution_count": null,
   "id": "519c6c1d",
   "metadata": {},
   "outputs": [],
   "source": [
    "X=False\n",
    "Y=True\n",
    "\n",
    "result =X and Y\n",
    "print(result)"
   ]
  },
  {
   "cell_type": "code",
   "execution_count": null,
   "id": "1739f923",
   "metadata": {},
   "outputs": [],
   "source": [
    "## OR\n",
    "X=False\n",
    "Y=False\n",
    "\n",
    "result =X or Y\n",
    "print(result)"
   ]
  },
  {
   "cell_type": "code",
   "execution_count": null,
   "id": "fb4b8046",
   "metadata": {},
   "outputs": [],
   "source": [
    "# Not operator\n",
    "X=False\n",
    "not X"
   ]
  },
  {
   "cell_type": "code",
   "execution_count": null,
   "id": "3f353b5d",
   "metadata": {},
   "outputs": [],
   "source": [
    "## Simple Calculator\n",
    "\n",
    "# Simple calculator\n",
    "num1 = float(input(\"Enter first number: \"))\n",
    "num2 = float(input(\"Enter second number: \"))\n",
    "\n",
    "# Performing arithmetic operations\n",
    "addition = num1 + num2\n",
    "subtraction = num1 - num2\n",
    "multiplication = num1 * num2\n",
    "division = num1 / num2\n",
    "floor_division = num1 // num2\n",
    "modulus = num1 % num2\n",
    "exponentiation = num1 ** num2\n",
    "\n",
    "# Displaying results\n",
    "print(\"Addition:\", addition)\n",
    "print(\"Subtraction:\", subtraction)\n",
    "print(\"Multiplication:\", multiplication)\n",
    "print(\"Division:\", division)\n",
    "print(\"Floor Division:\", floor_division)\n",
    "print(\"Modulus:\", modulus)\n",
    "print(\"Exponentiation:\", exponentiation)"
   ]
  }
 ],
 "metadata": {
  "kernelspec": {
   "display_name": "spyder-runtime",
   "language": "python",
   "name": "python3"
  },
  "language_info": {
   "name": "python",
   "version": "3.11.11"
  }
 },
 "nbformat": 4,
 "nbformat_minor": 5
}

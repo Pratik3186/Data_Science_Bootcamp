{
 "cells": [
  {
   "cell_type": "markdown",
   "id": "56eb79c8",
   "metadata": {},
   "source": [
    "DataTypes\n",
    "1. Definition:\n",
    "Data types are a classification of data which tell the compiler or interpreter how the programmer intends to use the data.\n",
    "They determine the type of operations that can be performed on the data, the values that the data can take, and the amount of memory needed to store the data.\n",
    "2. Importance of Data Types in Programming\n",
    "Explanation:\n",
    "\n",
    "Data types ensure that data is stored in an efficient way.  \n",
    "They help in performing correct operations on data.  \n",
    "Proper use of data types can prevent errors and bugs in the program.  \n",
    "Video Outline:\n",
    "\n",
    "Introduction to Data Types  \n",
    "Importance of Data Types in Programming  \n",
    "Basic Data Types  \n",
    "Integers  \n",
    "Floating-point numbers  \n",
    "Strings    \n",
    "Booleans  \n",
    "Advanced Data Types  \n",
    "Lists  \n",
    "Tuples  \n",
    "Sets  \n",
    "Dictionaries  \n",
    "Type Conversion  \n",
    "Practical Examples  "
   ]
  },
  {
   "cell_type": "code",
   "execution_count": null,
   "id": "a366f41c",
   "metadata": {},
   "outputs": [],
   "source": [
    "## Integer Example\n",
    "age=35\n",
    "type(age)"
   ]
  },
  {
   "cell_type": "code",
   "execution_count": null,
   "id": "90cb1e9b",
   "metadata": {},
   "outputs": [],
   "source": [
    "##floating point datatype\n",
    "height=5.11\n",
    "print(height)\n",
    "print(type(height))"
   ]
  },
  {
   "cell_type": "code",
   "execution_count": null,
   "id": "1c93b915",
   "metadata": {},
   "outputs": [],
   "source": [
    "## string datatype example\n",
    "name=\"Krish\"\n",
    "print(name)\n",
    "print(type(name))"
   ]
  },
  {
   "cell_type": "code",
   "execution_count": null,
   "id": "cd258b8e",
   "metadata": {},
   "outputs": [],
   "source": [
    "## boolean datatype\n",
    "is_true=True\n",
    "type(is_true)"
   ]
  },
  {
   "cell_type": "code",
   "execution_count": null,
   "id": "12ffcfc7",
   "metadata": {},
   "outputs": [],
   "source": [
    "a=10\n",
    "b=10\n",
    "\n",
    "type(a==b)"
   ]
  },
  {
   "cell_type": "code",
   "execution_count": null,
   "id": "4e9cd17b",
   "metadata": {},
   "outputs": [],
   "source": [
    "## common errors\n",
    "\n",
    "result=\"Hello\" + 5\n",
    " "
   ]
  },
  {
   "cell_type": "code",
   "execution_count": null,
   "id": "8b1cbd68",
   "metadata": {},
   "outputs": [],
   "source": [
    "result=\"Hello\" + str(5)\n",
    "print(result)"
   ]
  }
 ],
 "metadata": {
  "kernelspec": {
   "display_name": "spyder-runtime",
   "language": "python",
   "name": "python3"
  },
  "language_info": {
   "name": "python",
   "version": "3.11.11"
  }
 },
 "nbformat": 4,
 "nbformat_minor": 5
}
